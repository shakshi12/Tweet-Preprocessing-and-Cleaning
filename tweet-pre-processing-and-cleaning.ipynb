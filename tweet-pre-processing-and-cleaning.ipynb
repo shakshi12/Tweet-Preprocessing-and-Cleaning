{
 "cells": [
  {
   "cell_type": "code",
   "execution_count": 1,
   "id": "2da236a2",
   "metadata": {
    "execution": {
     "iopub.execute_input": "2021-08-01T20:21:12.256324Z",
     "iopub.status.busy": "2021-08-01T20:21:12.255259Z",
     "iopub.status.idle": "2021-08-01T20:22:55.025676Z",
     "shell.execute_reply": "2021-08-01T20:22:55.024518Z",
     "shell.execute_reply.started": "2021-08-01T19:50:00.327647Z"
    },
    "papermill": {
     "duration": 102.792402,
     "end_time": "2021-08-01T20:22:55.025867",
     "exception": false,
     "start_time": "2021-08-01T20:21:12.233465",
     "status": "completed"
    },
    "tags": []
   },
   "outputs": [
    {
     "name": "stdout",
     "output_type": "stream",
     "text": [
      "Collecting pyforest\r\n",
      "  Downloading pyforest-1.1.0.tar.gz (15 kB)\r\n",
      "Building wheels for collected packages: pyforest\r\n",
      "  Building wheel for pyforest (setup.py) ... \u001b[?25l-\b \b\\\b \bdone\r\n",
      "\u001b[?25h  Created wheel for pyforest: filename=pyforest-1.1.0-py2.py3-none-any.whl size=14606 sha256=ef97ea06ceaedff9ea87f571bd7d8e7e0ad1171fa90628505f82af3f1abbaf88\r\n",
      "  Stored in directory: /root/.cache/pip/wheels/61/1c/da/48e6c884142d485475d852d69d20a096aba5beceb338822893\r\n",
      "Successfully built pyforest\r\n",
      "Installing collected packages: pyforest\r\n",
      "Successfully installed pyforest-1.1.0\r\n",
      "\u001b[33mWARNING: Running pip as root will break packages and permissions. You should install packages reliably by using venv: https://pip.pypa.io/warnings/venv\u001b[0m\r\n",
      "Requirement already satisfied: spacy in /opt/conda/lib/python3.7/site-packages (2.3.7)\r\n",
      "Collecting spacy\r\n",
      "  Downloading spacy-3.1.1-cp37-cp37m-manylinux_2_17_x86_64.manylinux2014_x86_64.whl (6.4 MB)\r\n",
      "\u001b[K     |████████████████████████████████| 6.4 MB 14.3 MB/s \r\n",
      "\u001b[?25hRequirement already satisfied: setuptools in /opt/conda/lib/python3.7/site-packages (from spacy) (49.6.0.post20210108)\r\n",
      "Requirement already satisfied: packaging>=20.0 in /opt/conda/lib/python3.7/site-packages (from spacy) (20.9)\r\n",
      "Collecting spacy-legacy<3.1.0,>=3.0.7\r\n",
      "  Downloading spacy_legacy-3.0.8-py2.py3-none-any.whl (14 kB)\r\n",
      "Requirement already satisfied: numpy>=1.15.0 in /opt/conda/lib/python3.7/site-packages (from spacy) (1.19.5)\r\n",
      "Requirement already satisfied: wasabi<1.1.0,>=0.8.1 in /opt/conda/lib/python3.7/site-packages (from spacy) (0.8.2)\r\n",
      "Requirement already satisfied: murmurhash<1.1.0,>=0.28.0 in /opt/conda/lib/python3.7/site-packages (from spacy) (1.0.5)\r\n",
      "Collecting thinc<8.1.0,>=8.0.8\r\n",
      "  Downloading thinc-8.0.8-cp37-cp37m-manylinux_2_17_x86_64.manylinux2014_x86_64.whl (621 kB)\r\n",
      "\u001b[K     |████████████████████████████████| 621 kB 18.9 MB/s \r\n",
      "\u001b[?25hRequirement already satisfied: requests<3.0.0,>=2.13.0 in /opt/conda/lib/python3.7/site-packages (from spacy) (2.25.1)\r\n",
      "Collecting pathy>=0.3.5\r\n",
      "  Downloading pathy-0.6.0-py3-none-any.whl (42 kB)\r\n",
      "\u001b[K     |████████████████████████████████| 42 kB 967 kB/s \r\n",
      "\u001b[?25hRequirement already satisfied: cymem<2.1.0,>=2.0.2 in /opt/conda/lib/python3.7/site-packages (from spacy) (2.0.5)\r\n",
      "Requirement already satisfied: pydantic!=1.8,!=1.8.1,<1.9.0,>=1.7.4 in /opt/conda/lib/python3.7/site-packages (from spacy) (1.8.2)\r\n",
      "Requirement already satisfied: tqdm<5.0.0,>=4.38.0 in /opt/conda/lib/python3.7/site-packages (from spacy) (4.61.1)\r\n",
      "Requirement already satisfied: blis<0.8.0,>=0.4.0 in /opt/conda/lib/python3.7/site-packages (from spacy) (0.7.4)\r\n",
      "Collecting catalogue<2.1.0,>=2.0.4\r\n",
      "  Downloading catalogue-2.0.4-py3-none-any.whl (16 kB)\r\n",
      "Collecting srsly<3.0.0,>=2.4.1\r\n",
      "  Downloading srsly-2.4.1-cp37-cp37m-manylinux2014_x86_64.whl (456 kB)\r\n",
      "\u001b[K     |████████████████████████████████| 456 kB 18.8 MB/s \r\n",
      "\u001b[?25hCollecting typer<0.4.0,>=0.3.0\r\n",
      "  Downloading typer-0.3.2-py3-none-any.whl (21 kB)\r\n",
      "Requirement already satisfied: typing-extensions<4.0.0.0,>=3.7.4 in /opt/conda/lib/python3.7/site-packages (from spacy) (3.7.4.3)\r\n",
      "Requirement already satisfied: jinja2 in /opt/conda/lib/python3.7/site-packages (from spacy) (3.0.1)\r\n",
      "Requirement already satisfied: preshed<3.1.0,>=3.0.2 in /opt/conda/lib/python3.7/site-packages (from spacy) (3.0.5)\r\n",
      "Requirement already satisfied: zipp>=0.5 in /opt/conda/lib/python3.7/site-packages (from catalogue<2.1.0,>=2.0.4->spacy) (3.4.1)\r\n",
      "Requirement already satisfied: pyparsing>=2.0.2 in /opt/conda/lib/python3.7/site-packages (from packaging>=20.0->spacy) (2.4.7)\r\n",
      "Requirement already satisfied: smart-open<6.0.0,>=5.0.0 in /opt/conda/lib/python3.7/site-packages (from pathy>=0.3.5->spacy) (5.1.0)\r\n",
      "Requirement already satisfied: certifi>=2017.4.17 in /opt/conda/lib/python3.7/site-packages (from requests<3.0.0,>=2.13.0->spacy) (2021.5.30)\r\n",
      "Requirement already satisfied: chardet<5,>=3.0.2 in /opt/conda/lib/python3.7/site-packages (from requests<3.0.0,>=2.13.0->spacy) (4.0.0)\r\n",
      "Requirement already satisfied: idna<3,>=2.5 in /opt/conda/lib/python3.7/site-packages (from requests<3.0.0,>=2.13.0->spacy) (2.10)\r\n",
      "Requirement already satisfied: urllib3<1.27,>=1.21.1 in /opt/conda/lib/python3.7/site-packages (from requests<3.0.0,>=2.13.0->spacy) (1.26.5)\r\n",
      "Requirement already satisfied: click<7.2.0,>=7.1.1 in /opt/conda/lib/python3.7/site-packages (from typer<0.4.0,>=0.3.0->spacy) (7.1.2)\r\n",
      "Requirement already satisfied: MarkupSafe>=2.0 in /opt/conda/lib/python3.7/site-packages (from jinja2->spacy) (2.0.1)\r\n",
      "Installing collected packages: catalogue, typer, srsly, thinc, spacy-legacy, pathy, spacy\r\n",
      "  Attempting uninstall: catalogue\r\n",
      "    Found existing installation: catalogue 1.0.0\r\n",
      "    Uninstalling catalogue-1.0.0:\r\n",
      "      Successfully uninstalled catalogue-1.0.0\r\n",
      "  Attempting uninstall: srsly\r\n",
      "    Found existing installation: srsly 1.0.5\r\n",
      "    Uninstalling srsly-1.0.5:\r\n",
      "      Successfully uninstalled srsly-1.0.5\r\n",
      "  Attempting uninstall: thinc\r\n",
      "    Found existing installation: thinc 7.4.5\r\n",
      "    Uninstalling thinc-7.4.5:\r\n",
      "      Successfully uninstalled thinc-7.4.5\r\n",
      "  Attempting uninstall: spacy\r\n",
      "    Found existing installation: spacy 2.3.7\r\n",
      "    Uninstalling spacy-2.3.7:\r\n",
      "      Successfully uninstalled spacy-2.3.7\r\n",
      "\u001b[31mERROR: pip's dependency resolver does not currently take into account all the packages that are installed. This behaviour is the source of the following dependency conflicts.\r\n",
      "fastai 2.2.7 requires spacy<3, but you have spacy 3.1.1 which is incompatible.\r\n",
      "en-core-web-sm 2.3.1 requires spacy<2.4.0,>=2.3.0, but you have spacy 3.1.1 which is incompatible.\r\n",
      "en-core-web-lg 2.3.1 requires spacy<2.4.0,>=2.3.0, but you have spacy 3.1.1 which is incompatible.\r\n",
      "allennlp 2.5.0 requires spacy<3.1,>=2.1.0, but you have spacy 3.1.1 which is incompatible.\u001b[0m\r\n",
      "Successfully installed catalogue-2.0.4 pathy-0.6.0 spacy-3.1.1 spacy-legacy-3.0.8 srsly-2.4.1 thinc-8.0.8 typer-0.3.2\r\n",
      "\u001b[33mWARNING: Running pip as root will break packages and permissions. You should install packages reliably by using venv: https://pip.pypa.io/warnings/venv\u001b[0m\r\n",
      "2021-08-01 20:21:54.047510: W tensorflow/stream_executor/platform/default/dso_loader.cc:60] Could not load dynamic library 'libcudart.so.11.0'; dlerror: libcudart.so.11.0: cannot open shared object file: No such file or directory; LD_LIBRARY_PATH: /opt/conda/lib\r\n",
      "2021-08-01 20:21:54.047651: I tensorflow/stream_executor/cuda/cudart_stub.cc:29] Ignore above cudart dlerror if you do not have a GPU set up on your machine.\r\n",
      "Collecting en-core-web-trf==3.1.0\r\n",
      "  Downloading https://github.com/explosion/spacy-models/releases/download/en_core_web_trf-3.1.0/en_core_web_trf-3.1.0-py3-none-any.whl (460.2 MB)\r\n",
      "\u001b[K     |████████████████████████████████| 460.2 MB 6.9 kB/s \r\n",
      "\u001b[?25hCollecting spacy-transformers<1.1.0,>=1.0.3\r\n",
      "  Downloading spacy_transformers-1.0.3-py2.py3-none-any.whl (39 kB)\r\n",
      "Requirement already satisfied: spacy<3.2.0,>=3.1.0 in /opt/conda/lib/python3.7/site-packages (from en-core-web-trf==3.1.0) (3.1.1)\r\n",
      "Requirement already satisfied: pydantic!=1.8,!=1.8.1,<1.9.0,>=1.7.4 in /opt/conda/lib/python3.7/site-packages (from spacy<3.2.0,>=3.1.0->en-core-web-trf==3.1.0) (1.8.2)\r\n",
      "Requirement already satisfied: thinc<8.1.0,>=8.0.8 in /opt/conda/lib/python3.7/site-packages (from spacy<3.2.0,>=3.1.0->en-core-web-trf==3.1.0) (8.0.8)\r\n",
      "Requirement already satisfied: srsly<3.0.0,>=2.4.1 in /opt/conda/lib/python3.7/site-packages (from spacy<3.2.0,>=3.1.0->en-core-web-trf==3.1.0) (2.4.1)\r\n",
      "Requirement already satisfied: catalogue<2.1.0,>=2.0.4 in /opt/conda/lib/python3.7/site-packages (from spacy<3.2.0,>=3.1.0->en-core-web-trf==3.1.0) (2.0.4)\r\n",
      "Requirement already satisfied: typing-extensions<4.0.0.0,>=3.7.4 in /opt/conda/lib/python3.7/site-packages (from spacy<3.2.0,>=3.1.0->en-core-web-trf==3.1.0) (3.7.4.3)\r\n",
      "Requirement already satisfied: pathy>=0.3.5 in /opt/conda/lib/python3.7/site-packages (from spacy<3.2.0,>=3.1.0->en-core-web-trf==3.1.0) (0.6.0)\r\n",
      "Requirement already satisfied: wasabi<1.1.0,>=0.8.1 in /opt/conda/lib/python3.7/site-packages (from spacy<3.2.0,>=3.1.0->en-core-web-trf==3.1.0) (0.8.2)\r\n",
      "Requirement already satisfied: blis<0.8.0,>=0.4.0 in /opt/conda/lib/python3.7/site-packages (from spacy<3.2.0,>=3.1.0->en-core-web-trf==3.1.0) (0.7.4)\r\n",
      "Requirement already satisfied: spacy-legacy<3.1.0,>=3.0.7 in /opt/conda/lib/python3.7/site-packages (from spacy<3.2.0,>=3.1.0->en-core-web-trf==3.1.0) (3.0.8)\r\n",
      "Requirement already satisfied: typer<0.4.0,>=0.3.0 in /opt/conda/lib/python3.7/site-packages (from spacy<3.2.0,>=3.1.0->en-core-web-trf==3.1.0) (0.3.2)\r\n",
      "Requirement already satisfied: requests<3.0.0,>=2.13.0 in /opt/conda/lib/python3.7/site-packages (from spacy<3.2.0,>=3.1.0->en-core-web-trf==3.1.0) (2.25.1)\r\n",
      "Requirement already satisfied: jinja2 in /opt/conda/lib/python3.7/site-packages (from spacy<3.2.0,>=3.1.0->en-core-web-trf==3.1.0) (3.0.1)\r\n",
      "Requirement already satisfied: cymem<2.1.0,>=2.0.2 in /opt/conda/lib/python3.7/site-packages (from spacy<3.2.0,>=3.1.0->en-core-web-trf==3.1.0) (2.0.5)\r\n",
      "Requirement already satisfied: murmurhash<1.1.0,>=0.28.0 in /opt/conda/lib/python3.7/site-packages (from spacy<3.2.0,>=3.1.0->en-core-web-trf==3.1.0) (1.0.5)\r\n",
      "Requirement already satisfied: preshed<3.1.0,>=3.0.2 in /opt/conda/lib/python3.7/site-packages (from spacy<3.2.0,>=3.1.0->en-core-web-trf==3.1.0) (3.0.5)\r\n",
      "Requirement already satisfied: setuptools in /opt/conda/lib/python3.7/site-packages (from spacy<3.2.0,>=3.1.0->en-core-web-trf==3.1.0) (49.6.0.post20210108)\r\n",
      "Requirement already satisfied: numpy>=1.15.0 in /opt/conda/lib/python3.7/site-packages (from spacy<3.2.0,>=3.1.0->en-core-web-trf==3.1.0) (1.19.5)\r\n",
      "Requirement already satisfied: tqdm<5.0.0,>=4.38.0 in /opt/conda/lib/python3.7/site-packages (from spacy<3.2.0,>=3.1.0->en-core-web-trf==3.1.0) (4.61.1)\r\n",
      "Requirement already satisfied: packaging>=20.0 in /opt/conda/lib/python3.7/site-packages (from spacy<3.2.0,>=3.1.0->en-core-web-trf==3.1.0) (20.9)\r\n",
      "Requirement already satisfied: zipp>=0.5 in /opt/conda/lib/python3.7/site-packages (from catalogue<2.1.0,>=2.0.4->spacy<3.2.0,>=3.1.0->en-core-web-trf==3.1.0) (3.4.1)\r\n",
      "Requirement already satisfied: pyparsing>=2.0.2 in /opt/conda/lib/python3.7/site-packages (from packaging>=20.0->spacy<3.2.0,>=3.1.0->en-core-web-trf==3.1.0) (2.4.7)\r\n",
      "Requirement already satisfied: smart-open<6.0.0,>=5.0.0 in /opt/conda/lib/python3.7/site-packages (from pathy>=0.3.5->spacy<3.2.0,>=3.1.0->en-core-web-trf==3.1.0) (5.1.0)\r\n",
      "Requirement already satisfied: urllib3<1.27,>=1.21.1 in /opt/conda/lib/python3.7/site-packages (from requests<3.0.0,>=2.13.0->spacy<3.2.0,>=3.1.0->en-core-web-trf==3.1.0) (1.26.5)\r\n",
      "Requirement already satisfied: chardet<5,>=3.0.2 in /opt/conda/lib/python3.7/site-packages (from requests<3.0.0,>=2.13.0->spacy<3.2.0,>=3.1.0->en-core-web-trf==3.1.0) (4.0.0)\r\n",
      "Requirement already satisfied: certifi>=2017.4.17 in /opt/conda/lib/python3.7/site-packages (from requests<3.0.0,>=2.13.0->spacy<3.2.0,>=3.1.0->en-core-web-trf==3.1.0) (2021.5.30)\r\n",
      "Requirement already satisfied: idna<3,>=2.5 in /opt/conda/lib/python3.7/site-packages (from requests<3.0.0,>=2.13.0->spacy<3.2.0,>=3.1.0->en-core-web-trf==3.1.0) (2.10)\r\n",
      "Requirement already satisfied: torch>=1.5.0 in /opt/conda/lib/python3.7/site-packages (from spacy-transformers<1.1.0,>=1.0.3->en-core-web-trf==3.1.0) (1.7.0)\r\n",
      "Requirement already satisfied: transformers<4.7.0,>=3.4.0 in /opt/conda/lib/python3.7/site-packages (from spacy-transformers<1.1.0,>=1.0.3->en-core-web-trf==3.1.0) (4.6.1)\r\n",
      "Collecting spacy-alignments<1.0.0,>=0.7.2\r\n",
      "  Downloading spacy_alignments-0.8.3-cp37-cp37m-manylinux2014_x86_64.whl (998 kB)\r\n",
      "\u001b[K     |████████████████████████████████| 998 kB 480 kB/s \r\n",
      "\u001b[?25hRequirement already satisfied: future in /opt/conda/lib/python3.7/site-packages (from torch>=1.5.0->spacy-transformers<1.1.0,>=1.0.3->en-core-web-trf==3.1.0) (0.18.2)\r\n",
      "Requirement already satisfied: dataclasses in /opt/conda/lib/python3.7/site-packages (from torch>=1.5.0->spacy-transformers<1.1.0,>=1.0.3->en-core-web-trf==3.1.0) (0.6)\r\n",
      "Requirement already satisfied: filelock in /opt/conda/lib/python3.7/site-packages (from transformers<4.7.0,>=3.4.0->spacy-transformers<1.1.0,>=1.0.3->en-core-web-trf==3.1.0) (3.0.12)\r\n",
      "Requirement already satisfied: importlib-metadata in /opt/conda/lib/python3.7/site-packages (from transformers<4.7.0,>=3.4.0->spacy-transformers<1.1.0,>=1.0.3->en-core-web-trf==3.1.0) (3.4.0)\r\n",
      "Requirement already satisfied: tokenizers<0.11,>=0.10.1 in /opt/conda/lib/python3.7/site-packages (from transformers<4.7.0,>=3.4.0->spacy-transformers<1.1.0,>=1.0.3->en-core-web-trf==3.1.0) (0.10.3)\r\n",
      "Requirement already satisfied: huggingface-hub==0.0.8 in /opt/conda/lib/python3.7/site-packages (from transformers<4.7.0,>=3.4.0->spacy-transformers<1.1.0,>=1.0.3->en-core-web-trf==3.1.0) (0.0.8)\r\n",
      "Requirement already satisfied: sacremoses in /opt/conda/lib/python3.7/site-packages (from transformers<4.7.0,>=3.4.0->spacy-transformers<1.1.0,>=1.0.3->en-core-web-trf==3.1.0) (0.0.45)\r\n",
      "Requirement already satisfied: regex!=2019.12.17 in /opt/conda/lib/python3.7/site-packages (from transformers<4.7.0,>=3.4.0->spacy-transformers<1.1.0,>=1.0.3->en-core-web-trf==3.1.0) (2021.4.4)\r\n",
      "Requirement already satisfied: click<7.2.0,>=7.1.1 in /opt/conda/lib/python3.7/site-packages (from typer<0.4.0,>=0.3.0->spacy<3.2.0,>=3.1.0->en-core-web-trf==3.1.0) (7.1.2)\r\n",
      "Requirement already satisfied: MarkupSafe>=2.0 in /opt/conda/lib/python3.7/site-packages (from jinja2->spacy<3.2.0,>=3.1.0->en-core-web-trf==3.1.0) (2.0.1)\r\n",
      "Requirement already satisfied: six in /opt/conda/lib/python3.7/site-packages (from sacremoses->transformers<4.7.0,>=3.4.0->spacy-transformers<1.1.0,>=1.0.3->en-core-web-trf==3.1.0) (1.15.0)\r\n",
      "Requirement already satisfied: joblib in /opt/conda/lib/python3.7/site-packages (from sacremoses->transformers<4.7.0,>=3.4.0->spacy-transformers<1.1.0,>=1.0.3->en-core-web-trf==3.1.0) (1.0.1)\r\n",
      "Installing collected packages: spacy-alignments, spacy-transformers, en-core-web-trf\r\n",
      "Successfully installed en-core-web-trf-3.1.0 spacy-alignments-0.8.3 spacy-transformers-1.0.3\r\n",
      "\u001b[33mWARNING: Running pip as root will break packages and permissions. You should install packages reliably by using venv: https://pip.pypa.io/warnings/venv\u001b[0m\r\n",
      "\u001b[38;5;2m✔ Download and installation successful\u001b[0m\r\n",
      "You can now load the package via spacy.load('en_core_web_trf')\r\n",
      "Collecting tweet-preprocessor\r\n",
      "  Downloading tweet_preprocessor-0.6.0-py3-none-any.whl (27 kB)\r\n",
      "Installing collected packages: tweet-preprocessor\r\n",
      "Successfully installed tweet-preprocessor-0.6.0\r\n",
      "\u001b[33mWARNING: Running pip as root will break packages and permissions. You should install packages reliably by using venv: https://pip.pypa.io/warnings/venv\u001b[0m\r\n"
     ]
    }
   ],
   "source": [
    "!pip install pyforest\n",
    "!pip install -U spacy\n",
    "!python -m spacy download en_core_web_trf\n",
    "!pip install tweet-preprocessor"
   ]
  },
  {
   "cell_type": "code",
   "execution_count": 2,
   "id": "453fc216",
   "metadata": {
    "execution": {
     "iopub.execute_input": "2021-08-01T20:22:55.546215Z",
     "iopub.status.busy": "2021-08-01T20:22:55.545546Z",
     "iopub.status.idle": "2021-08-01T20:23:03.577287Z",
     "shell.execute_reply": "2021-08-01T20:23:03.577722Z",
     "shell.execute_reply.started": "2021-08-01T19:50:49.935615Z"
    },
    "papermill": {
     "duration": 8.291316,
     "end_time": "2021-08-01T20:23:03.577893",
     "exception": false,
     "start_time": "2021-08-01T20:22:55.286577",
     "status": "completed"
    },
    "tags": []
   },
   "outputs": [
    {
     "name": "stderr",
     "output_type": "stream",
     "text": [
      "/opt/conda/lib/python3.7/site-packages/sklearn/utils/deprecation.py:143: FutureWarning: The sklearn.feature_extraction.stop_words module is  deprecated in version 0.22 and will be removed in version 0.24. The corresponding classes / functions should instead be imported from sklearn.feature_extraction.text. Anything that cannot be imported from sklearn.feature_extraction.text is now part of the private API.\n",
      "  warnings.warn(message, FutureWarning)\n"
     ]
    }
   ],
   "source": [
    "import pyforest\n",
    "import spacy\n",
    "import en_core_web_trf\n",
    "sp = spacy.load('en_core_web_trf')\n",
    "from matplotlib import pyplot\n",
    "from sklearn.tree import DecisionTreeClassifier\n",
    "from sklearn.metrics import accuracy_score\n",
    "from sklearn.metrics import confusion_matrix\n",
    "from sklearn.metrics import classification_report\n",
    "from nltk.corpus import stopwords\n",
    "stop = stopwords.words('english')\n",
    "import preprocessor as p\n",
    "from sklearn.model_selection import train_test_split\n",
    "from sklearn.feature_extraction import stop_words\n",
    "from sklearn.feature_extraction.text import CountVectorizer"
   ]
  },
  {
   "cell_type": "code",
   "execution_count": 3,
   "id": "6fb19690",
   "metadata": {
    "execution": {
     "iopub.execute_input": "2021-08-01T20:23:04.091100Z",
     "iopub.status.busy": "2021-08-01T20:23:04.090473Z",
     "iopub.status.idle": "2021-08-01T20:23:04.207874Z",
     "shell.execute_reply": "2021-08-01T20:23:04.207298Z",
     "shell.execute_reply.started": "2021-08-01T19:51:36.233347Z"
    },
    "papermill": {
     "duration": 0.379164,
     "end_time": "2021-08-01T20:23:04.208027",
     "exception": false,
     "start_time": "2021-08-01T20:23:03.828863",
     "status": "completed"
    },
    "tags": []
   },
   "outputs": [
    {
     "data": {
      "application/javascript": [
       "\n",
       "        if (window._pyforest_update_imports_cell) { window._pyforest_update_imports_cell('import pandas as pd'); }\n",
       "    "
      ],
      "text/plain": [
       "<IPython.core.display.Javascript object>"
      ]
     },
     "metadata": {},
     "output_type": "display_data"
    }
   ],
   "source": [
    "df = pd.read_csv('../input/fake-and-true-tweets/fake_true_tweets.txt', delimiter = '\\t', usecols = ['post_text', 'label'])"
   ]
  },
  {
   "cell_type": "code",
   "execution_count": 4,
   "id": "9f2c4232",
   "metadata": {
    "execution": {
     "iopub.execute_input": "2021-08-01T20:23:04.723970Z",
     "iopub.status.busy": "2021-08-01T20:23:04.722935Z",
     "iopub.status.idle": "2021-08-01T20:23:04.740905Z",
     "shell.execute_reply": "2021-08-01T20:23:04.741781Z",
     "shell.execute_reply.started": "2021-08-01T19:51:38.571434Z"
    },
    "papermill": {
     "duration": 0.283406,
     "end_time": "2021-08-01T20:23:04.742016",
     "exception": false,
     "start_time": "2021-08-01T20:23:04.458610",
     "status": "completed"
    },
    "tags": []
   },
   "outputs": [
    {
     "data": {
      "text/html": [
       "<div>\n",
       "<style scoped>\n",
       "    .dataframe tbody tr th:only-of-type {\n",
       "        vertical-align: middle;\n",
       "    }\n",
       "\n",
       "    .dataframe tbody tr th {\n",
       "        vertical-align: top;\n",
       "    }\n",
       "\n",
       "    .dataframe thead th {\n",
       "        text-align: right;\n",
       "    }\n",
       "</style>\n",
       "<table border=\"1\" class=\"dataframe\">\n",
       "  <thead>\n",
       "    <tr style=\"text-align: right;\">\n",
       "      <th></th>\n",
       "      <th>post_text</th>\n",
       "      <th>label</th>\n",
       "    </tr>\n",
       "  </thead>\n",
       "  <tbody>\n",
       "    <tr>\n",
       "      <th>2192</th>\n",
       "      <td>New York visitada por el huracán #sandy 2012 h...</td>\n",
       "      <td>fake</td>\n",
       "    </tr>\n",
       "    <tr>\n",
       "      <th>12594</th>\n",
       "      <td>15 Irish people are officially missing after #...</td>\n",
       "      <td>fake</td>\n",
       "    </tr>\n",
       "    <tr>\n",
       "      <th>12077</th>\n",
       "      <td>Partial Solar Eclipse and transit of ISS taken...</td>\n",
       "      <td>real</td>\n",
       "    </tr>\n",
       "    <tr>\n",
       "      <th>9103</th>\n",
       "      <td>RT @YourAnonNews: Spare a thought for #Jamaica...</td>\n",
       "      <td>real</td>\n",
       "    </tr>\n",
       "    <tr>\n",
       "      <th>4512</th>\n",
       "      <td>Terrible catástrofe del huracán Sandy de su pa...</td>\n",
       "      <td>fake</td>\n",
       "    </tr>\n",
       "    <tr>\n",
       "      <th>2058</th>\n",
       "      <td>DAMN NATURE!!!! #sandy #bigtroubleinthebronx h...</td>\n",
       "      <td>fake</td>\n",
       "    </tr>\n",
       "    <tr>\n",
       "      <th>5778</th>\n",
       "      <td>Shark swimming in front yard. #NBD #insta #hur...</td>\n",
       "      <td>fake</td>\n",
       "    </tr>\n",
       "    <tr>\n",
       "      <th>8586</th>\n",
       "      <td>#sandy no light. Ma fav city look stony.. http...</td>\n",
       "      <td>real</td>\n",
       "    </tr>\n",
       "    <tr>\n",
       "      <th>8736</th>\n",
       "      <td>Damn #sandy http://t.co/A248WHwR</td>\n",
       "      <td>real</td>\n",
       "    </tr>\n",
       "    <tr>\n",
       "      <th>4078</th>\n",
       "      <td>Huracan Sandy, y asi es como empezo el fin del...</td>\n",
       "      <td>fake</td>\n",
       "    </tr>\n",
       "  </tbody>\n",
       "</table>\n",
       "</div>"
      ],
      "text/plain": [
       "                                               post_text label\n",
       "2192   New York visitada por el huracán #sandy 2012 h...  fake\n",
       "12594  15 Irish people are officially missing after #...  fake\n",
       "12077  Partial Solar Eclipse and transit of ISS taken...  real\n",
       "9103   RT @YourAnonNews: Spare a thought for #Jamaica...  real\n",
       "4512   Terrible catástrofe del huracán Sandy de su pa...  fake\n",
       "2058   DAMN NATURE!!!! #sandy #bigtroubleinthebronx h...  fake\n",
       "5778   Shark swimming in front yard. #NBD #insta #hur...  fake\n",
       "8586   #sandy no light. Ma fav city look stony.. http...  real\n",
       "8736                    Damn #sandy http://t.co/A248WHwR  real\n",
       "4078   Huracan Sandy, y asi es como empezo el fin del...  fake"
      ]
     },
     "execution_count": 4,
     "metadata": {},
     "output_type": "execute_result"
    }
   ],
   "source": [
    "df.sample(10)"
   ]
  },
  {
   "cell_type": "code",
   "execution_count": 5,
   "id": "e48f52ac",
   "metadata": {
    "execution": {
     "iopub.execute_input": "2021-08-01T20:23:05.287305Z",
     "iopub.status.busy": "2021-08-01T20:23:05.286332Z",
     "iopub.status.idle": "2021-08-01T20:23:05.291085Z",
     "shell.execute_reply": "2021-08-01T20:23:05.291603Z",
     "shell.execute_reply.started": "2021-08-01T19:51:45.309412Z"
    },
    "papermill": {
     "duration": 0.273006,
     "end_time": "2021-08-01T20:23:05.291845",
     "exception": false,
     "start_time": "2021-08-01T20:23:05.018839",
     "status": "completed"
    },
    "tags": []
   },
   "outputs": [],
   "source": [
    "# Set those options which we want to remove from tweets\n",
    "p.set_options(p.OPT.URL, p.OPT.EMOJI, p.OPT.SMILEY, p.OPT.NUMBER)"
   ]
  },
  {
   "cell_type": "code",
   "execution_count": 6,
   "id": "ac8ac26e",
   "metadata": {
    "execution": {
     "iopub.execute_input": "2021-08-01T20:23:05.841831Z",
     "iopub.status.busy": "2021-08-01T20:23:05.840816Z",
     "iopub.status.idle": "2021-08-01T20:23:07.056728Z",
     "shell.execute_reply": "2021-08-01T20:23:07.056127Z",
     "shell.execute_reply.started": "2021-08-01T19:54:06.047251Z"
    },
    "papermill": {
     "duration": 1.476315,
     "end_time": "2021-08-01T20:23:07.056871",
     "exception": false,
     "start_time": "2021-08-01T20:23:05.580556",
     "status": "completed"
    },
    "tags": []
   },
   "outputs": [],
   "source": [
    "# then apply clean function to remove above defined options\n",
    "def api_clean(x):\n",
    "    return p.clean(x)\n",
    "\n",
    "df['clean_text_api'] = df['post_text'].apply(api_clean)"
   ]
  },
  {
   "cell_type": "code",
   "execution_count": 7,
   "id": "75f55c8e",
   "metadata": {
    "execution": {
     "iopub.execute_input": "2021-08-01T20:23:07.563016Z",
     "iopub.status.busy": "2021-08-01T20:23:07.562291Z",
     "iopub.status.idle": "2021-08-01T20:23:07.564417Z",
     "shell.execute_reply": "2021-08-01T20:23:07.564821Z",
     "shell.execute_reply.started": "2021-08-01T19:54:18.293565Z"
    },
    "papermill": {
     "duration": 0.256603,
     "end_time": "2021-08-01T20:23:07.564994",
     "exception": false,
     "start_time": "2021-08-01T20:23:07.308391",
     "status": "completed"
    },
    "tags": []
   },
   "outputs": [],
   "source": [
    "# remove hashtags sign and lowercase the words\n",
    "def cleaner(tweet):\n",
    "    tweet = tweet.replace(\"#\", \"\").replace(\"_\", \" \") #Remove hashtag sign but keep the text\n",
    "    return tweet.lower()"
   ]
  },
  {
   "cell_type": "code",
   "execution_count": 8,
   "id": "720ab7a8",
   "metadata": {
    "execution": {
     "iopub.execute_input": "2021-08-01T20:23:08.100405Z",
     "iopub.status.busy": "2021-08-01T20:23:08.084702Z",
     "iopub.status.idle": "2021-08-01T20:23:08.144331Z",
     "shell.execute_reply": "2021-08-01T20:23:08.144788Z",
     "shell.execute_reply.started": "2021-08-01T19:54:23.547954Z"
    },
    "papermill": {
     "duration": 0.330698,
     "end_time": "2021-08-01T20:23:08.144956",
     "exception": false,
     "start_time": "2021-08-01T20:23:07.814258",
     "status": "completed"
    },
    "tags": []
   },
   "outputs": [
    {
     "name": "stderr",
     "output_type": "stream",
     "text": [
      "/opt/conda/lib/python3.7/site-packages/pyforest/__init__.py:2: FutureWarning: The default value of regex will change from True to False in a future version.\n",
      "  from ._imports import *\n"
     ]
    }
   ],
   "source": [
    "# remove the characters other than letters\n",
    "df['clean_text_api'] = df['clean_text_api'].str.replace(\"[^a-zA-Z]\", \" \")"
   ]
  },
  {
   "cell_type": "code",
   "execution_count": 9,
   "id": "4feeedf5",
   "metadata": {
    "execution": {
     "iopub.execute_input": "2021-08-01T20:23:08.652087Z",
     "iopub.status.busy": "2021-08-01T20:23:08.651050Z",
     "iopub.status.idle": "2021-08-01T20:23:08.664655Z",
     "shell.execute_reply": "2021-08-01T20:23:08.665154Z",
     "shell.execute_reply.started": "2021-08-01T19:54:56.626495Z"
    },
    "papermill": {
     "duration": 0.269121,
     "end_time": "2021-08-01T20:23:08.665322",
     "exception": false,
     "start_time": "2021-08-01T20:23:08.396201",
     "status": "completed"
    },
    "tags": []
   },
   "outputs": [],
   "source": [
    "df['clean_text_remove_hashtags'] = df['clean_text_api'].apply(cleaner)"
   ]
  },
  {
   "cell_type": "code",
   "execution_count": 10,
   "id": "a8598b90",
   "metadata": {
    "execution": {
     "iopub.execute_input": "2021-08-01T20:23:09.170763Z",
     "iopub.status.busy": "2021-08-01T20:23:09.170117Z",
     "iopub.status.idle": "2021-08-01T20:23:09.184941Z",
     "shell.execute_reply": "2021-08-01T20:23:09.185437Z",
     "shell.execute_reply.started": "2021-08-01T19:54:58.953536Z"
    },
    "papermill": {
     "duration": 0.271063,
     "end_time": "2021-08-01T20:23:09.185600",
     "exception": false,
     "start_time": "2021-08-01T20:23:08.914537",
     "status": "completed"
    },
    "tags": []
   },
   "outputs": [
    {
     "data": {
      "text/html": [
       "<div>\n",
       "<style scoped>\n",
       "    .dataframe tbody tr th:only-of-type {\n",
       "        vertical-align: middle;\n",
       "    }\n",
       "\n",
       "    .dataframe tbody tr th {\n",
       "        vertical-align: top;\n",
       "    }\n",
       "\n",
       "    .dataframe thead th {\n",
       "        text-align: right;\n",
       "    }\n",
       "</style>\n",
       "<table border=\"1\" class=\"dataframe\">\n",
       "  <thead>\n",
       "    <tr style=\"text-align: right;\">\n",
       "      <th></th>\n",
       "      <th>post_text</th>\n",
       "      <th>label</th>\n",
       "      <th>clean_text_api</th>\n",
       "      <th>clean_text_remove_hashtags</th>\n",
       "    </tr>\n",
       "  </thead>\n",
       "  <tbody>\n",
       "    <tr>\n",
       "      <th>3005</th>\n",
       "      <td>خطية جايين يسووگون للعيد من المول !! #Sandy ht...</td>\n",
       "      <td>fake</td>\n",
       "      <td>Sandy</td>\n",
       "      <td>sandy</td>\n",
       "    </tr>\n",
       "    <tr>\n",
       "      <th>15097</th>\n",
       "      <td>SYRIA! SYRIAN HERO BOY rescue girl in shootout...</td>\n",
       "      <td>fake</td>\n",
       "      <td>SYRIA  SYRIAN HERO BOY rescue girl in shootout...</td>\n",
       "      <td>syria  syrian hero boy rescue girl in shootout...</td>\n",
       "    </tr>\n",
       "    <tr>\n",
       "      <th>10779</th>\n",
       "      <td>#Leadership RT @AlexYudelson: Remember Preside...</td>\n",
       "      <td>real</td>\n",
       "      <td>Leadership RT  AlexYudelson  Remember Preside...</td>\n",
       "      <td>leadership rt  alexyudelson  remember preside...</td>\n",
       "    </tr>\n",
       "    <tr>\n",
       "      <th>6879</th>\n",
       "      <td>Boston Marathon suspect #2 with white hat (far...</td>\n",
       "      <td>real</td>\n",
       "      <td>Boston Marathon suspect    with white hat  far...</td>\n",
       "      <td>boston marathon suspect    with white hat  far...</td>\n",
       "    </tr>\n",
       "    <tr>\n",
       "      <th>4181</th>\n",
       "      <td>my dad just sent me this to be ironic. My mom'...</td>\n",
       "      <td>fake</td>\n",
       "      <td>my dad just sent me this to be ironic  My mom ...</td>\n",
       "      <td>my dad just sent me this to be ironic  my mom ...</td>\n",
       "    </tr>\n",
       "    <tr>\n",
       "      <th>8580</th>\n",
       "      <td>Taxi Cabs under water - #sandy aj_magnberg's p...</td>\n",
       "      <td>real</td>\n",
       "      <td>Taxi Cabs under water    sandy aj magnberg s p...</td>\n",
       "      <td>taxi cabs under water    sandy aj magnberg s p...</td>\n",
       "    </tr>\n",
       "    <tr>\n",
       "      <th>124</th>\n",
       "      <td>Wow... the missing kid Sunil Tripathi sure doe...</td>\n",
       "      <td>fake</td>\n",
       "      <td>Wow    the missing kid Sunil Tripathi sure doe...</td>\n",
       "      <td>wow    the missing kid sunil tripathi sure doe...</td>\n",
       "    </tr>\n",
       "    <tr>\n",
       "      <th>1513</th>\n",
       "      <td>الله يكفينا من الشر 😱 #statueofliberty #ny #hu...</td>\n",
       "      <td>fake</td>\n",
       "      <td>statueofliberty  ny  hurticane  sandy</td>\n",
       "      <td>statueofliberty  ny  hurticane  sandy</td>\n",
       "    </tr>\n",
       "    <tr>\n",
       "      <th>3810</th>\n",
       "      <td>\\\"@Daweeq: HURRICANE #SANDY IS GETTING REAL ht...</td>\n",
       "      <td>fake</td>\n",
       "      <td>Daweeq  HURRICANE  SANDY IS GETTING REAL</td>\n",
       "      <td>daweeq  hurricane  sandy is getting real</td>\n",
       "    </tr>\n",
       "    <tr>\n",
       "      <th>114</th>\n",
       "      <td>FBI missing person / Bombing suspect = Same pe...</td>\n",
       "      <td>fake</td>\n",
       "      <td>FBI missing person   Bombing suspect   Same pe...</td>\n",
       "      <td>fbi missing person   bombing suspect   same pe...</td>\n",
       "    </tr>\n",
       "  </tbody>\n",
       "</table>\n",
       "</div>"
      ],
      "text/plain": [
       "                                               post_text label  \\\n",
       "3005   خطية جايين يسووگون للعيد من المول !! #Sandy ht...  fake   \n",
       "15097  SYRIA! SYRIAN HERO BOY rescue girl in shootout...  fake   \n",
       "10779  #Leadership RT @AlexYudelson: Remember Preside...  real   \n",
       "6879   Boston Marathon suspect #2 with white hat (far...  real   \n",
       "4181   my dad just sent me this to be ironic. My mom'...  fake   \n",
       "8580   Taxi Cabs under water - #sandy aj_magnberg's p...  real   \n",
       "124    Wow... the missing kid Sunil Tripathi sure doe...  fake   \n",
       "1513   الله يكفينا من الشر 😱 #statueofliberty #ny #hu...  fake   \n",
       "3810   \\\"@Daweeq: HURRICANE #SANDY IS GETTING REAL ht...  fake   \n",
       "114    FBI missing person / Bombing suspect = Same pe...  fake   \n",
       "\n",
       "                                          clean_text_api  \\\n",
       "3005                                               Sandy   \n",
       "15097  SYRIA  SYRIAN HERO BOY rescue girl in shootout...   \n",
       "10779   Leadership RT  AlexYudelson  Remember Preside...   \n",
       "6879   Boston Marathon suspect    with white hat  far...   \n",
       "4181   my dad just sent me this to be ironic  My mom ...   \n",
       "8580   Taxi Cabs under water    sandy aj magnberg s p...   \n",
       "124    Wow    the missing kid Sunil Tripathi sure doe...   \n",
       "1513               statueofliberty  ny  hurticane  sandy   \n",
       "3810          Daweeq  HURRICANE  SANDY IS GETTING REAL     \n",
       "114    FBI missing person   Bombing suspect   Same pe...   \n",
       "\n",
       "                              clean_text_remove_hashtags  \n",
       "3005                                               sandy  \n",
       "15097  syria  syrian hero boy rescue girl in shootout...  \n",
       "10779   leadership rt  alexyudelson  remember preside...  \n",
       "6879   boston marathon suspect    with white hat  far...  \n",
       "4181   my dad just sent me this to be ironic  my mom ...  \n",
       "8580   taxi cabs under water    sandy aj magnberg s p...  \n",
       "124    wow    the missing kid sunil tripathi sure doe...  \n",
       "1513               statueofliberty  ny  hurticane  sandy  \n",
       "3810          daweeq  hurricane  sandy is getting real    \n",
       "114    fbi missing person   bombing suspect   same pe...  "
      ]
     },
     "execution_count": 10,
     "metadata": {},
     "output_type": "execute_result"
    }
   ],
   "source": [
    "df.sample(10)"
   ]
  },
  {
   "cell_type": "code",
   "execution_count": 11,
   "id": "9c65c073",
   "metadata": {
    "execution": {
     "iopub.execute_input": "2021-08-01T20:23:09.705979Z",
     "iopub.status.busy": "2021-08-01T20:23:09.705342Z",
     "iopub.status.idle": "2021-08-01T20:42:48.609928Z",
     "shell.execute_reply": "2021-08-01T20:42:48.610569Z",
     "shell.execute_reply.started": "2021-08-01T19:55:41.125077Z"
    },
    "papermill": {
     "duration": 1179.164838,
     "end_time": "2021-08-01T20:42:48.610935",
     "exception": false,
     "start_time": "2021-08-01T20:23:09.446097",
     "status": "completed"
    },
    "tags": []
   },
   "outputs": [],
   "source": [
    "# lemmatization of the words\n",
    "tokenized_tweet_text = df.clean_text_remove_hashtags.apply(lambda sentence: [ word.lemma_ for word in sp(sentence)]) # lemmatize\n",
    "for i in range(len(tokenized_tweet_text)):\n",
    "    tokenized_tweet_text[i] = ' '.join(tokenized_tweet_text[i])\n",
    "df['clean_text_remove_hashtags_lemma'] = tokenized_tweet_text"
   ]
  },
  {
   "cell_type": "code",
   "execution_count": 12,
   "id": "2312f482",
   "metadata": {
    "execution": {
     "iopub.execute_input": "2021-08-01T20:42:49.222804Z",
     "iopub.status.busy": "2021-08-01T20:42:49.222135Z",
     "iopub.status.idle": "2021-08-01T20:42:49.264096Z",
     "shell.execute_reply": "2021-08-01T20:42:49.263396Z",
     "shell.execute_reply.started": "2021-08-01T20:15:11.891622Z"
    },
    "papermill": {
     "duration": 0.337854,
     "end_time": "2021-08-01T20:42:49.264252",
     "exception": false,
     "start_time": "2021-08-01T20:42:48.926398",
     "status": "completed"
    },
    "tags": []
   },
   "outputs": [],
   "source": [
    "# remove words that contains two or less than two characters\n",
    "df['clean_text_remove_hashtags_lemma'] = df.clean_text_remove_hashtags_lemma.apply(lambda x: ' '.join([w for w in x.split() if len(w) > 2]))"
   ]
  },
  {
   "cell_type": "code",
   "execution_count": 13,
   "id": "61c495c9",
   "metadata": {
    "execution": {
     "iopub.execute_input": "2021-08-01T20:42:49.825846Z",
     "iopub.status.busy": "2021-08-01T20:42:49.824935Z",
     "iopub.status.idle": "2021-08-01T20:42:52.687952Z",
     "shell.execute_reply": "2021-08-01T20:42:52.687445Z",
     "shell.execute_reply.started": "2021-08-01T20:15:11.936478Z"
    },
    "papermill": {
     "duration": 3.143065,
     "end_time": "2021-08-01T20:42:52.688090",
     "exception": false,
     "start_time": "2021-08-01T20:42:49.545025",
     "status": "completed"
    },
    "tags": []
   },
   "outputs": [
    {
     "name": "stderr",
     "output_type": "stream",
     "text": [
      "/opt/conda/lib/python3.7/site-packages/pyforest/__init__.py:2: UserWarning: Pandas doesn't allow columns to be created via a new attribute name - see https://pandas.pydata.org/pandas-docs/stable/indexing.html#attribute-access\n",
      "  from ._imports import *\n"
     ]
    }
   ],
   "source": [
    "# Stemming (either lemmatization or stemming can be used)\n",
    "df.temp = df.clean_text_remove_hashtags.apply(lambda x: x.split())\n",
    "from nltk.stem.porter import * \n",
    "stemmer = PorterStemmer() \n",
    "tokenized_tweet_text = df.temp.apply(lambda x: [stemmer.stem(i) for i in x]) # stemming\n",
    "for i in range(len(tokenized_tweet_text)):\n",
    "    tokenized_tweet_text[i] = ' '.join(tokenized_tweet_text[i])    \n",
    "df['clean_text_remove_hashtags_stem'] = tokenized_tweet_text"
   ]
  },
  {
   "cell_type": "code",
   "execution_count": 14,
   "id": "4a6acd60",
   "metadata": {
    "execution": {
     "iopub.execute_input": "2021-08-01T20:42:53.231996Z",
     "iopub.status.busy": "2021-08-01T20:42:53.231364Z",
     "iopub.status.idle": "2021-08-01T20:42:53.614420Z",
     "shell.execute_reply": "2021-08-01T20:42:53.614936Z",
     "shell.execute_reply.started": "2021-08-01T20:15:14.761226Z"
    },
    "papermill": {
     "duration": 0.652625,
     "end_time": "2021-08-01T20:42:53.615112",
     "exception": false,
     "start_time": "2021-08-01T20:42:52.962487",
     "status": "completed"
    },
    "tags": []
   },
   "outputs": [],
   "source": [
    "# remove words with more than two repetition of same character\n",
    "df.temp = df['clean_text_remove_hashtags_lemma'].apply(lambda x: x.split())\n",
    "tokenized_tweet_text = df.temp.apply(lambda x: [re.sub(r'((\\w)\\2{2,})', '', i) for i in x])\n",
    "for i in range(len(tokenized_tweet_text)):\n",
    "    tokenized_tweet_text[i] = ' '.join(tokenized_tweet_text[i])    \n",
    "df['clean_text_remove_hashtags_lemma_rep'] = tokenized_tweet_text"
   ]
  },
  {
   "cell_type": "code",
   "execution_count": 15,
   "id": "717e5395",
   "metadata": {
    "execution": {
     "iopub.execute_input": "2021-08-01T20:42:54.166619Z",
     "iopub.status.busy": "2021-08-01T20:42:54.166001Z",
     "iopub.status.idle": "2021-08-01T20:42:54.973021Z",
     "shell.execute_reply": "2021-08-01T20:42:54.973515Z",
     "shell.execute_reply.started": "2021-08-01T20:15:15.469778Z"
    },
    "papermill": {
     "duration": 1.084701,
     "end_time": "2021-08-01T20:42:54.973712",
     "exception": false,
     "start_time": "2021-08-01T20:42:53.889011",
     "status": "completed"
    },
    "tags": []
   },
   "outputs": [],
   "source": [
    "# remove stopwords\n",
    "df.temp = df['clean_text_remove_hashtags_lemma_rep'].apply(lambda x: x.split())\n",
    "tokenized_tweet_text = df.temp.apply(lambda x: [item for item in x if item not in stop])\n",
    "for i in range(len(tokenized_tweet_text)):\n",
    "    tokenized_tweet_text[i] = ' '.join(tokenized_tweet_text[i])\n",
    "df['clean_text_remove_hashtags_lemma_rep_stop'] = tokenized_tweet_text"
   ]
  },
  {
   "cell_type": "code",
   "execution_count": 16,
   "id": "3055f212",
   "metadata": {
    "execution": {
     "iopub.execute_input": "2021-08-01T20:42:55.519984Z",
     "iopub.status.busy": "2021-08-01T20:42:55.519345Z",
     "iopub.status.idle": "2021-08-01T20:42:55.542478Z",
     "shell.execute_reply": "2021-08-01T20:42:55.541936Z",
     "shell.execute_reply.started": "2021-08-01T20:15:15.942513Z"
    },
    "papermill": {
     "duration": 0.295083,
     "end_time": "2021-08-01T20:42:55.542607",
     "exception": false,
     "start_time": "2021-08-01T20:42:55.247524",
     "status": "completed"
    },
    "tags": []
   },
   "outputs": [
    {
     "data": {
      "text/html": [
       "<div>\n",
       "<style scoped>\n",
       "    .dataframe tbody tr th:only-of-type {\n",
       "        vertical-align: middle;\n",
       "    }\n",
       "\n",
       "    .dataframe tbody tr th {\n",
       "        vertical-align: top;\n",
       "    }\n",
       "\n",
       "    .dataframe thead th {\n",
       "        text-align: right;\n",
       "    }\n",
       "</style>\n",
       "<table border=\"1\" class=\"dataframe\">\n",
       "  <thead>\n",
       "    <tr style=\"text-align: right;\">\n",
       "      <th></th>\n",
       "      <th>post_text</th>\n",
       "      <th>label</th>\n",
       "      <th>clean_text_api</th>\n",
       "      <th>clean_text_remove_hashtags</th>\n",
       "      <th>clean_text_remove_hashtags_lemma</th>\n",
       "      <th>clean_text_remove_hashtags_stem</th>\n",
       "      <th>clean_text_remove_hashtags_lemma_rep</th>\n",
       "      <th>clean_text_remove_hashtags_lemma_rep_stop</th>\n",
       "    </tr>\n",
       "  </thead>\n",
       "  <tbody>\n",
       "    <tr>\n",
       "      <th>3697</th>\n",
       "      <td>NewYork Hurricane Sandy http://t.co/pfOLrLbo</td>\n",
       "      <td>fake</td>\n",
       "      <td>NewYork Hurricane Sandy</td>\n",
       "      <td>newyork hurricane sandy</td>\n",
       "      <td>newyork hurricane sandy</td>\n",
       "      <td>newyork hurrican sandi</td>\n",
       "      <td>newyork hurricane sandy</td>\n",
       "      <td>newyork hurricane sandy</td>\n",
       "    </tr>\n",
       "    <tr>\n",
       "      <th>9011</th>\n",
       "      <td>Reminds me of I Am Legend or The Last of Us :0...</td>\n",
       "      <td>real</td>\n",
       "      <td>Reminds me of I Am Legend or The Last of Us   ...</td>\n",
       "      <td>reminds me of i am legend or the last of us   ...</td>\n",
       "      <td>remind legend the last photograph photography ...</td>\n",
       "      <td>remind me of i am legend or the last of us me ...</td>\n",
       "      <td>remind legend the last photograph photography ...</td>\n",
       "      <td>remind legend last photograph photography nyc ...</td>\n",
       "    </tr>\n",
       "    <tr>\n",
       "      <th>3080</th>\n",
       "      <td>wasn't this faked? “@MindBlowing: A shark was ...</td>\n",
       "      <td>fake</td>\n",
       "      <td>wasn t this faked   MindBlowing  A shark was p...</td>\n",
       "      <td>wasn t this faked   mindblowing  a shark was p...</td>\n",
       "      <td>wasn this fake mindblowing shark photograph sw...</td>\n",
       "      <td>wasn t thi fake mindblow a shark wa photograph...</td>\n",
       "      <td>wasn this fake mindblowing shark photograph sw...</td>\n",
       "      <td>fake mindblowing shark photograph swim road ne...</td>\n",
       "    </tr>\n",
       "    <tr>\n",
       "      <th>10058</th>\n",
       "      <td>RT @MarkBorkowski: Love this. The milk of huma...</td>\n",
       "      <td>real</td>\n",
       "      <td>RT  MarkBorkowski  Love this  The milk of huma...</td>\n",
       "      <td>rt  markborkowski  love this  the milk of huma...</td>\n",
       "      <td>markborkowski love this the milk human kindnes...</td>\n",
       "      <td>rt markborkowski love thi the milk of human ki...</td>\n",
       "      <td>markborkowski love this the milk human kindnes...</td>\n",
       "      <td>markborkowski love milk human kindness sandy</td>\n",
       "    </tr>\n",
       "    <tr>\n",
       "      <th>11351</th>\n",
       "      <td>just so you know… #sandy http://t.co/6IsaRIZT</td>\n",
       "      <td>real</td>\n",
       "      <td>just so you know  sandy</td>\n",
       "      <td>just so you know  sandy</td>\n",
       "      <td>just you know sandy</td>\n",
       "      <td>just so you know sandi</td>\n",
       "      <td>just you know sandy</td>\n",
       "      <td>know sandy</td>\n",
       "    </tr>\n",
       "    <tr>\n",
       "      <th>5793</th>\n",
       "      <td>Omg RT @lamiyaahh Damn RT @ChrisHarris34: \\\"@D...</td>\n",
       "      <td>fake</td>\n",
       "      <td>Omg RT  lamiyaahh Damn RT  ChrisHarris       D...</td>\n",
       "      <td>omg rt  lamiyaahh damn rt  chrisharris       d...</td>\n",
       "      <td>omg lamiyaahh damn chrisharris darealniecey hu...</td>\n",
       "      <td>omg rt lamiyaahh damn rt chrisharri darealniec...</td>\n",
       "      <td>omg lamiyaahh damn chrisharris darealniecey hu...</td>\n",
       "      <td>omg lamiyaahh damn chrisharris darealniecey hu...</td>\n",
       "    </tr>\n",
       "    <tr>\n",
       "      <th>3851</th>\n",
       "      <td>Ужас.\\n#Sandy http://t.co/voPhJqbH</td>\n",
       "      <td>fake</td>\n",
       "      <td>n Sandy</td>\n",
       "      <td>n sandy</td>\n",
       "      <td>sandy</td>\n",
       "      <td>n sandi</td>\n",
       "      <td>sandy</td>\n",
       "      <td>sandy</td>\n",
       "    </tr>\n",
       "    <tr>\n",
       "      <th>11073</th>\n",
       "      <td>Ils sont sympa ces new-yorkais (via @ppgarcia7...</td>\n",
       "      <td>real</td>\n",
       "      <td>Ils sont sympa ces new yorkais  via  ppgarcia ...</td>\n",
       "      <td>ils sont sympa ces new yorkais  via  ppgarcia ...</td>\n",
       "      <td>ils sont sympa ces new yorkais via ppgarcia sandy</td>\n",
       "      <td>il sont sympa ce new yorkai via ppgarcia sandi</td>\n",
       "      <td>ils sont sympa ces new yorkais via ppgarcia sandy</td>\n",
       "      <td>ils sont sympa ces new yorkais via ppgarcia sandy</td>\n",
       "    </tr>\n",
       "    <tr>\n",
       "      <th>7563</th>\n",
       "      <td>Jersey princess hurricane wine dora the explor...</td>\n",
       "      <td>real</td>\n",
       "      <td>Jersey princess hurricane wine dora the explor...</td>\n",
       "      <td>jersey princess hurricane wine dora the explor...</td>\n",
       "      <td>jersey princess hurricane wine dora the explor...</td>\n",
       "      <td>jersey princess hurrican wine dora the explor ...</td>\n",
       "      <td>jersey princess hurricane wine dora the explor...</td>\n",
       "      <td>jersey princess hurricane wine dora explorer r...</td>\n",
       "    </tr>\n",
       "    <tr>\n",
       "      <th>2512</th>\n",
       "      <td>RT @DeboConfesarQue: El huracán Sandy llevó un...</td>\n",
       "      <td>fake</td>\n",
       "      <td>RT  DeboConfesarQue  El huracn Sandy llev un t...</td>\n",
       "      <td>rt  deboconfesarque  el huracn sandy llev un t...</td>\n",
       "      <td>deboconfesarque huracn sandy llev tiburn hasta...</td>\n",
       "      <td>rt deboconfesarqu el huracn sandi llev un tibu...</td>\n",
       "      <td>deboconfesarque huracn sandy llev tiburn hasta...</td>\n",
       "      <td>deboconfesarque huracn sandy llev tiburn hasta...</td>\n",
       "    </tr>\n",
       "  </tbody>\n",
       "</table>\n",
       "</div>"
      ],
      "text/plain": [
       "                                               post_text label  \\\n",
       "3697        NewYork Hurricane Sandy http://t.co/pfOLrLbo  fake   \n",
       "9011   Reminds me of I Am Legend or The Last of Us :0...  real   \n",
       "3080   wasn't this faked? “@MindBlowing: A shark was ...  fake   \n",
       "10058  RT @MarkBorkowski: Love this. The milk of huma...  real   \n",
       "11351      just so you know… #sandy http://t.co/6IsaRIZT  real   \n",
       "5793   Omg RT @lamiyaahh Damn RT @ChrisHarris34: \\\"@D...  fake   \n",
       "3851                  Ужас.\\n#Sandy http://t.co/voPhJqbH  fake   \n",
       "11073  Ils sont sympa ces new-yorkais (via @ppgarcia7...  real   \n",
       "7563   Jersey princess hurricane wine dora the explor...  real   \n",
       "2512   RT @DeboConfesarQue: El huracán Sandy llevó un...  fake   \n",
       "\n",
       "                                          clean_text_api  \\\n",
       "3697                             NewYork Hurricane Sandy   \n",
       "9011   Reminds me of I Am Legend or The Last of Us   ...   \n",
       "3080   wasn t this faked   MindBlowing  A shark was p...   \n",
       "10058  RT  MarkBorkowski  Love this  The milk of huma...   \n",
       "11351                            just so you know  sandy   \n",
       "5793   Omg RT  lamiyaahh Damn RT  ChrisHarris       D...   \n",
       "3851                                             n Sandy   \n",
       "11073  Ils sont sympa ces new yorkais  via  ppgarcia ...   \n",
       "7563   Jersey princess hurricane wine dora the explor...   \n",
       "2512   RT  DeboConfesarQue  El huracn Sandy llev un t...   \n",
       "\n",
       "                              clean_text_remove_hashtags  \\\n",
       "3697                             newyork hurricane sandy   \n",
       "9011   reminds me of i am legend or the last of us   ...   \n",
       "3080   wasn t this faked   mindblowing  a shark was p...   \n",
       "10058  rt  markborkowski  love this  the milk of huma...   \n",
       "11351                            just so you know  sandy   \n",
       "5793   omg rt  lamiyaahh damn rt  chrisharris       d...   \n",
       "3851                                             n sandy   \n",
       "11073  ils sont sympa ces new yorkais  via  ppgarcia ...   \n",
       "7563   jersey princess hurricane wine dora the explor...   \n",
       "2512   rt  deboconfesarque  el huracn sandy llev un t...   \n",
       "\n",
       "                        clean_text_remove_hashtags_lemma  \\\n",
       "3697                             newyork hurricane sandy   \n",
       "9011   remind legend the last photograph photography ...   \n",
       "3080   wasn this fake mindblowing shark photograph sw...   \n",
       "10058  markborkowski love this the milk human kindnes...   \n",
       "11351                                just you know sandy   \n",
       "5793   omg lamiyaahh damn chrisharris darealniecey hu...   \n",
       "3851                                               sandy   \n",
       "11073  ils sont sympa ces new yorkais via ppgarcia sandy   \n",
       "7563   jersey princess hurricane wine dora the explor...   \n",
       "2512   deboconfesarque huracn sandy llev tiburn hasta...   \n",
       "\n",
       "                         clean_text_remove_hashtags_stem  \\\n",
       "3697                              newyork hurrican sandi   \n",
       "9011   remind me of i am legend or the last of us me ...   \n",
       "3080   wasn t thi fake mindblow a shark wa photograph...   \n",
       "10058  rt markborkowski love thi the milk of human ki...   \n",
       "11351                             just so you know sandi   \n",
       "5793   omg rt lamiyaahh damn rt chrisharri darealniec...   \n",
       "3851                                             n sandi   \n",
       "11073     il sont sympa ce new yorkai via ppgarcia sandi   \n",
       "7563   jersey princess hurrican wine dora the explor ...   \n",
       "2512   rt deboconfesarqu el huracn sandi llev un tibu...   \n",
       "\n",
       "                    clean_text_remove_hashtags_lemma_rep  \\\n",
       "3697                             newyork hurricane sandy   \n",
       "9011   remind legend the last photograph photography ...   \n",
       "3080   wasn this fake mindblowing shark photograph sw...   \n",
       "10058  markborkowski love this the milk human kindnes...   \n",
       "11351                                just you know sandy   \n",
       "5793   omg lamiyaahh damn chrisharris darealniecey hu...   \n",
       "3851                                               sandy   \n",
       "11073  ils sont sympa ces new yorkais via ppgarcia sandy   \n",
       "7563   jersey princess hurricane wine dora the explor...   \n",
       "2512   deboconfesarque huracn sandy llev tiburn hasta...   \n",
       "\n",
       "               clean_text_remove_hashtags_lemma_rep_stop  \n",
       "3697                             newyork hurricane sandy  \n",
       "9011   remind legend last photograph photography nyc ...  \n",
       "3080   fake mindblowing shark photograph swim road ne...  \n",
       "10058       markborkowski love milk human kindness sandy  \n",
       "11351                                         know sandy  \n",
       "5793   omg lamiyaahh damn chrisharris darealniecey hu...  \n",
       "3851                                               sandy  \n",
       "11073  ils sont sympa ces new yorkais via ppgarcia sandy  \n",
       "7563   jersey princess hurricane wine dora explorer r...  \n",
       "2512   deboconfesarque huracn sandy llev tiburn hasta...  "
      ]
     },
     "execution_count": 16,
     "metadata": {},
     "output_type": "execute_result"
    }
   ],
   "source": [
    "df.sample(10)"
   ]
  },
  {
   "cell_type": "markdown",
   "id": "431d1dc5",
   "metadata": {
    "papermill": {
     "duration": 0.268425,
     "end_time": "2021-08-01T20:42:56.084087",
     "exception": false,
     "start_time": "2021-08-01T20:42:55.815662",
     "status": "completed"
    },
    "tags": []
   },
   "source": [
    "# Split the dataset for Classification"
   ]
  },
  {
   "cell_type": "code",
   "execution_count": 17,
   "id": "e0011731",
   "metadata": {
    "execution": {
     "iopub.execute_input": "2021-08-01T20:42:56.634175Z",
     "iopub.status.busy": "2021-08-01T20:42:56.633402Z",
     "iopub.status.idle": "2021-08-01T20:42:56.635956Z",
     "shell.execute_reply": "2021-08-01T20:42:56.635516Z",
     "shell.execute_reply.started": "2021-08-01T20:15:15.970199Z"
    },
    "papermill": {
     "duration": 0.281477,
     "end_time": "2021-08-01T20:42:56.636095",
     "exception": false,
     "start_time": "2021-08-01T20:42:56.354618",
     "status": "completed"
    },
    "tags": []
   },
   "outputs": [],
   "source": [
    "X = df['clean_text_remove_hashtags_lemma_rep_stop'] # Try and test different pr-processed column\n",
    "y = df.label"
   ]
  },
  {
   "cell_type": "code",
   "execution_count": 18,
   "id": "2ed1033c",
   "metadata": {
    "execution": {
     "iopub.execute_input": "2021-08-01T20:42:57.244292Z",
     "iopub.status.busy": "2021-08-01T20:42:57.243703Z",
     "iopub.status.idle": "2021-08-01T20:42:57.248059Z",
     "shell.execute_reply": "2021-08-01T20:42:57.248500Z",
     "shell.execute_reply.started": "2021-08-01T20:15:15.979215Z"
    },
    "papermill": {
     "duration": 0.278136,
     "end_time": "2021-08-01T20:42:57.248676",
     "exception": false,
     "start_time": "2021-08-01T20:42:56.970540",
     "status": "completed"
    },
    "tags": []
   },
   "outputs": [],
   "source": [
    "X_train, X_val, y_train, y_val = train_test_split(X, y, shuffle = True, random_state = 123)"
   ]
  },
  {
   "cell_type": "code",
   "execution_count": 19,
   "id": "79815b5c",
   "metadata": {
    "execution": {
     "iopub.execute_input": "2021-08-01T20:42:57.787433Z",
     "iopub.status.busy": "2021-08-01T20:42:57.786540Z",
     "iopub.status.idle": "2021-08-01T20:42:57.919175Z",
     "shell.execute_reply": "2021-08-01T20:42:57.918681Z",
     "shell.execute_reply.started": "2021-08-01T20:15:15.989550Z"
    },
    "papermill": {
     "duration": 0.401643,
     "end_time": "2021-08-01T20:42:57.919321",
     "exception": false,
     "start_time": "2021-08-01T20:42:57.517678",
     "status": "completed"
    },
    "tags": []
   },
   "outputs": [],
   "source": [
    "vect = CountVectorizer(stop_words='english')\n",
    "X_train = vect.fit_transform(X_train)"
   ]
  },
  {
   "cell_type": "code",
   "execution_count": 20,
   "id": "2057168b",
   "metadata": {
    "execution": {
     "iopub.execute_input": "2021-08-01T20:42:58.465197Z",
     "iopub.status.busy": "2021-08-01T20:42:58.464542Z",
     "iopub.status.idle": "2021-08-01T20:42:58.469703Z",
     "shell.execute_reply": "2021-08-01T20:42:58.469124Z",
     "shell.execute_reply.started": "2021-08-01T20:15:16.124239Z"
    },
    "papermill": {
     "duration": 0.281496,
     "end_time": "2021-08-01T20:42:58.469837",
     "exception": false,
     "start_time": "2021-08-01T20:42:58.188341",
     "status": "completed"
    },
    "tags": []
   },
   "outputs": [
    {
     "data": {
      "text/plain": [
       "(11721, 9645)"
      ]
     },
     "execution_count": 20,
     "metadata": {},
     "output_type": "execute_result"
    }
   ],
   "source": [
    "X_train.shape"
   ]
  },
  {
   "cell_type": "code",
   "execution_count": 21,
   "id": "3c7b2183",
   "metadata": {
    "execution": {
     "iopub.execute_input": "2021-08-01T20:42:59.021522Z",
     "iopub.status.busy": "2021-08-01T20:42:59.020939Z",
     "iopub.status.idle": "2021-08-01T20:42:59.061051Z",
     "shell.execute_reply": "2021-08-01T20:42:59.061551Z",
     "shell.execute_reply.started": "2021-08-01T20:15:16.130044Z"
    },
    "papermill": {
     "duration": 0.317824,
     "end_time": "2021-08-01T20:42:59.061776",
     "exception": false,
     "start_time": "2021-08-01T20:42:58.743952",
     "status": "completed"
    },
    "tags": []
   },
   "outputs": [
    {
     "name": "stdout",
     "output_type": "stream",
     "text": [
      "(11721, 9645) (3908, 9645)\n"
     ]
    }
   ],
   "source": [
    "X_val = vect.transform(X_val)\n",
    "\n",
    "print(X_train.shape, X_val.shape)"
   ]
  },
  {
   "cell_type": "markdown",
   "id": "073546f4",
   "metadata": {
    "papermill": {
     "duration": 0.290324,
     "end_time": "2021-08-01T20:42:59.627216",
     "exception": false,
     "start_time": "2021-08-01T20:42:59.336892",
     "status": "completed"
    },
    "tags": []
   },
   "source": [
    "# Random Forest Classifier"
   ]
  },
  {
   "cell_type": "code",
   "execution_count": 22,
   "id": "81b446b7",
   "metadata": {
    "execution": {
     "iopub.execute_input": "2021-08-01T20:43:00.183204Z",
     "iopub.status.busy": "2021-08-01T20:43:00.182599Z",
     "iopub.status.idle": "2021-08-01T20:43:00.996891Z",
     "shell.execute_reply": "2021-08-01T20:43:00.996384Z",
     "shell.execute_reply.started": "2021-08-01T20:15:16.197642Z"
    },
    "papermill": {
     "duration": 1.095229,
     "end_time": "2021-08-01T20:43:00.997033",
     "exception": false,
     "start_time": "2021-08-01T20:42:59.901804",
     "status": "completed"
    },
    "tags": []
   },
   "outputs": [],
   "source": [
    "model = DecisionTreeClassifier()\n",
    "model.fit(X_train, y_train)\n",
    "# get importance\n",
    "importancee = model.feature_importances_"
   ]
  },
  {
   "cell_type": "markdown",
   "id": "038432d0",
   "metadata": {
    "papermill": {
     "duration": 0.273151,
     "end_time": "2021-08-01T20:43:01.545480",
     "exception": false,
     "start_time": "2021-08-01T20:43:01.272329",
     "status": "completed"
    },
    "tags": []
   },
   "source": [
    "# Feature Importance"
   ]
  },
  {
   "cell_type": "code",
   "execution_count": 23,
   "id": "0a145b83",
   "metadata": {
    "execution": {
     "iopub.execute_input": "2021-08-01T20:43:02.117671Z",
     "iopub.status.busy": "2021-08-01T20:43:02.117018Z",
     "iopub.status.idle": "2021-08-01T20:43:02.438995Z",
     "shell.execute_reply": "2021-08-01T20:43:02.438342Z",
     "shell.execute_reply.started": "2021-08-01T20:15:17.027383Z"
    },
    "papermill": {
     "duration": 0.615918,
     "end_time": "2021-08-01T20:43:02.439132",
     "exception": false,
     "start_time": "2021-08-01T20:43:01.823214",
     "status": "completed"
    },
    "tags": []
   },
   "outputs": [
    {
     "data": {
      "application/javascript": [
       "\n",
       "        if (window._pyforest_update_imports_cell) { window._pyforest_update_imports_cell('import pandas as pd'); }\n",
       "    "
      ],
      "text/plain": [
       "<IPython.core.display.Javascript object>"
      ]
     },
     "metadata": {},
     "output_type": "display_data"
    },
    {
     "data": {
      "application/javascript": [
       "\n",
       "        if (window._pyforest_update_imports_cell) { window._pyforest_update_imports_cell('import numpy as np\\nimport pandas as pd'); }\n",
       "    "
      ],
      "text/plain": [
       "<IPython.core.display.Javascript object>"
      ]
     },
     "metadata": {},
     "output_type": "display_data"
    },
    {
     "data": {
      "application/javascript": [
       "\n",
       "        if (window._pyforest_update_imports_cell) { window._pyforest_update_imports_cell('import numpy as np\\nimport pandas as pd'); }\n",
       "    "
      ],
      "text/plain": [
       "<IPython.core.display.Javascript object>"
      ]
     },
     "metadata": {},
     "output_type": "display_data"
    },
    {
     "name": "stdout",
     "output_type": "stream",
     "text": [
      "                 word             importance\n",
      "1163          bsqueda  9.966561171524954e-07\n",
      "3667              hey  9.917706019506723e-06\n",
      "4273            jalan  9.798396084679712e-06\n",
      "4001  impressionnante  9.739546858940235e-06\n",
      "3375      goodmorning  9.717397142242449e-06\n",
      "5458           mmarzo  9.717397142239496e-07\n",
      "1362               cd  9.673238962231213e-06\n",
      "9564              ykk  9.623427853584522e-06\n",
      "1445              chi   9.56614554493153e-06\n",
      "5910      nohurricane  9.509373167814207e-06\n"
     ]
    },
    {
     "data": {
      "application/javascript": [
       "\n",
       "        if (window._pyforest_update_imports_cell) { window._pyforest_update_imports_cell('import numpy as np\\nimport pandas as pd'); }\n",
       "    "
      ],
      "text/plain": [
       "<IPython.core.display.Javascript object>"
      ]
     },
     "metadata": {},
     "output_type": "display_data"
    },
    {
     "data": {
      "application/javascript": [
       "\n",
       "        if (window._pyforest_update_imports_cell) { window._pyforest_update_imports_cell('import numpy as np\\nimport seaborn as sns\\nimport pandas as pd'); }\n",
       "    "
      ],
      "text/plain": [
       "<IPython.core.display.Javascript object>"
      ]
     },
     "metadata": {},
     "output_type": "display_data"
    },
    {
     "data": {
      "text/plain": [
       "<AxesSubplot:xlabel='importance', ylabel='word'>"
      ]
     },
     "execution_count": 23,
     "metadata": {},
     "output_type": "execute_result"
    },
    {
     "data": {
      "image/png": "[encoded data removed]",
      "text/plain": [
       "<Figure size 432x288 with 1 Axes>"
      ]
     },
     "metadata": {
      "needs_background": "light"
     },
     "output_type": "display_data"
    }
   ],
   "source": [
    "feat_impts = [vect.get_feature_names()]\n",
    "feat_impts.append(importancee)\n",
    "df_feats_impts = pd.DataFrame(np.transpose(np.array(feat_impts)), columns = [\"word\",\"importance\"])\n",
    "# print top 10 words based on importance values\n",
    "top = df_feats_impts[[\"word\",\"importance\"]].sort_values(by = \"importance\", ascending = False).head(10)\n",
    "print(top)\n",
    "top['importance'] = pd.to_numeric(top['importance'])\n",
    "sns.barplot(x = \"importance\", y = \"word\", data = top)"
   ]
  },
  {
   "cell_type": "code",
   "execution_count": 24,
   "id": "82a2cf59",
   "metadata": {
    "execution": {
     "iopub.execute_input": "2021-08-01T20:43:02.994362Z",
     "iopub.status.busy": "2021-08-01T20:43:02.993513Z",
     "iopub.status.idle": "2021-08-01T20:43:02.997382Z",
     "shell.execute_reply": "2021-08-01T20:43:02.996848Z",
     "shell.execute_reply.started": "2021-08-01T20:15:17.349282Z"
    },
    "papermill": {
     "duration": 0.275408,
     "end_time": "2021-08-01T20:43:02.997517",
     "exception": false,
     "start_time": "2021-08-01T20:43:02.722109",
     "status": "completed"
    },
    "tags": []
   },
   "outputs": [
    {
     "data": {
      "text/plain": [
       "array(['fake'], dtype=object)"
      ]
     },
     "execution_count": 24,
     "metadata": {},
     "output_type": "execute_result"
    }
   ],
   "source": [
    "# Can see single prediction\n",
    "X_sample = vect.transform([df.loc[14764]['post_text']])\n",
    "\n",
    "model.predict(X_sample)"
   ]
  },
  {
   "cell_type": "markdown",
   "id": "a471e435",
   "metadata": {
    "papermill": {
     "duration": 0.274268,
     "end_time": "2021-08-01T20:43:03.537805",
     "exception": false,
     "start_time": "2021-08-01T20:43:03.263537",
     "status": "completed"
    },
    "tags": []
   },
   "source": [
    "# Evaluate Results"
   ]
  },
  {
   "cell_type": "code",
   "execution_count": 25,
   "id": "9330ed37",
   "metadata": {
    "execution": {
     "iopub.execute_input": "2021-08-01T20:43:04.087425Z",
     "iopub.status.busy": "2021-08-01T20:43:04.086835Z",
     "iopub.status.idle": "2021-08-01T20:43:04.231885Z",
     "shell.execute_reply": "2021-08-01T20:43:04.231014Z",
     "shell.execute_reply.started": "2021-08-01T20:15:17.359468Z"
    },
    "papermill": {
     "duration": 0.4239,
     "end_time": "2021-08-01T20:43:04.232089",
     "exception": false,
     "start_time": "2021-08-01T20:43:03.808189",
     "status": "completed"
    },
    "tags": []
   },
   "outputs": [
    {
     "name": "stdout",
     "output_type": "stream",
     "text": [
      "0.8753838280450358\n",
      "[[2147  186]\n",
      " [ 301 1274]]\n",
      "              precision    recall  f1-score   support\n",
      "\n",
      "        fake       0.88      0.92      0.90      2333\n",
      "        real       0.87      0.81      0.84      1575\n",
      "\n",
      "    accuracy                           0.88      3908\n",
      "   macro avg       0.87      0.86      0.87      3908\n",
      "weighted avg       0.88      0.88      0.87      3908\n",
      "\n"
     ]
    }
   ],
   "source": [
    "y_pred_test = model.predict(X_val)\n",
    "print(accuracy_score(y_val, y_pred_test))\n",
    "print(confusion_matrix(y_val, y_pred_test))\n",
    "print(classification_report(y_val, y_pred_test))"
   ]
  },
  {
   "cell_type": "code",
   "execution_count": 26,
   "id": "131b2cdf",
   "metadata": {
    "execution": {
     "iopub.execute_input": "2021-08-01T20:43:04.832244Z",
     "iopub.status.busy": "2021-08-01T20:43:04.831608Z",
     "iopub.status.idle": "2021-08-01T20:43:05.115691Z",
     "shell.execute_reply": "2021-08-01T20:43:05.116102Z",
     "shell.execute_reply.started": "2021-08-01T20:15:58.820991Z"
    },
    "papermill": {
     "duration": 0.601091,
     "end_time": "2021-08-01T20:43:05.116266",
     "exception": false,
     "start_time": "2021-08-01T20:43:04.515175",
     "status": "completed"
    },
    "tags": []
   },
   "outputs": [
    {
     "data": {
      "application/javascript": [
       "\n",
       "        if (window._pyforest_update_imports_cell) { window._pyforest_update_imports_cell('import numpy as np\\nimport seaborn as sns\\nimport pandas as pd\\nimport matplotlib.pyplot as plt'); }\n",
       "    "
      ],
      "text/plain": [
       "<IPython.core.display.Javascript object>"
      ]
     },
     "metadata": {},
     "output_type": "display_data"
    },
    {
     "data": {
      "application/javascript": [
       "\n",
       "        if (window._pyforest_update_imports_cell) { window._pyforest_update_imports_cell('import numpy as np\\nimport seaborn as sns\\nimport pandas as pd\\nimport matplotlib.pyplot as plt'); }\n",
       "    "
      ],
      "text/plain": [
       "<IPython.core.display.Javascript object>"
      ]
     },
     "metadata": {},
     "output_type": "display_data"
    },
    {
     "data": {
      "application/javascript": [
       "\n",
       "        if (window._pyforest_update_imports_cell) { window._pyforest_update_imports_cell('import numpy as np\\nimport seaborn as sns\\nimport pandas as pd\\nimport matplotlib.pyplot as plt'); }\n",
       "    "
      ],
      "text/plain": [
       "<IPython.core.display.Javascript object>"
      ]
     },
     "metadata": {},
     "output_type": "display_data"
    },
    {
     "data": {
      "application/javascript": [
       "\n",
       "        if (window._pyforest_update_imports_cell) { window._pyforest_update_imports_cell('import numpy as np\\nimport seaborn as sns\\nimport pandas as pd\\nimport matplotlib.pyplot as plt'); }\n",
       "    "
      ],
      "text/plain": [
       "<IPython.core.display.Javascript object>"
      ]
     },
     "metadata": {},
     "output_type": "display_data"
    },
    {
     "data": {
      "application/javascript": [
       "\n",
       "        if (window._pyforest_update_imports_cell) { window._pyforest_update_imports_cell('import numpy as np\\nimport seaborn as sns\\nimport pandas as pd\\nimport matplotlib.pyplot as plt'); }\n",
       "    "
      ],
      "text/plain": [
       "<IPython.core.display.Javascript object>"
      ]
     },
     "metadata": {},
     "output_type": "display_data"
    },
    {
     "data": {
      "application/javascript": [
       "\n",
       "        if (window._pyforest_update_imports_cell) { window._pyforest_update_imports_cell('import numpy as np\\nimport seaborn as sns\\nimport pandas as pd\\nimport matplotlib.pyplot as plt'); }\n",
       "    "
      ],
      "text/plain": [
       "<IPython.core.display.Javascript object>"
      ]
     },
     "metadata": {},
     "output_type": "display_data"
    },
    {
     "data": {
      "application/javascript": [
       "\n",
       "        if (window._pyforest_update_imports_cell) { window._pyforest_update_imports_cell('import numpy as np\\nimport seaborn as sns\\nimport pandas as pd\\nimport matplotlib.pyplot as plt'); }\n",
       "    "
      ],
      "text/plain": [
       "<IPython.core.display.Javascript object>"
      ]
     },
     "metadata": {},
     "output_type": "display_data"
    },
    {
     "data": {
      "application/javascript": [
       "\n",
       "        if (window._pyforest_update_imports_cell) { window._pyforest_update_imports_cell('import numpy as np\\nimport seaborn as sns\\nimport pandas as pd\\nimport matplotlib.pyplot as plt'); }\n",
       "    "
      ],
      "text/plain": [
       "<IPython.core.display.Javascript object>"
      ]
     },
     "metadata": {},
     "output_type": "display_data"
    },
    {
     "data": {
      "application/javascript": [
       "\n",
       "        if (window._pyforest_update_imports_cell) { window._pyforest_update_imports_cell('import numpy as np\\nimport seaborn as sns\\nimport pandas as pd\\nimport matplotlib.pyplot as plt'); }\n",
       "    "
      ],
      "text/plain": [
       "<IPython.core.display.Javascript object>"
      ]
     },
     "metadata": {},
     "output_type": "display_data"
    },
    {
     "data": {
      "application/javascript": [
       "\n",
       "        if (window._pyforest_update_imports_cell) { window._pyforest_update_imports_cell('import numpy as np\\nimport seaborn as sns\\nimport pandas as pd\\nimport matplotlib.pyplot as plt'); }\n",
       "    "
      ],
      "text/plain": [
       "<IPython.core.display.Javascript object>"
      ]
     },
     "metadata": {},
     "output_type": "display_data"
    },
    {
     "data": {
      "application/javascript": [
       "\n",
       "        if (window._pyforest_update_imports_cell) { window._pyforest_update_imports_cell('import numpy as np\\nimport seaborn as sns\\nimport pandas as pd\\nimport matplotlib.pyplot as plt'); }\n",
       "    "
      ],
      "text/plain": [
       "<IPython.core.display.Javascript object>"
      ]
     },
     "metadata": {},
     "output_type": "display_data"
    },
    {
     "data": {
      "image/png": "[encoded data removed]",
      "text/plain": [
       "<Figure size 720x504 with 2 Axes>"
      ]
     },
     "metadata": {
      "needs_background": "light"
     },
     "output_type": "display_data"
    }
   ],
   "source": [
    "# Plot Confusion Matrix\n",
    "matrix = confusion_matrix(y_val, y_pred_test)\n",
    "plt.figure(figsize=(10,7))\n",
    "sns.set(font_scale=1.4)\n",
    "sns.heatmap(matrix, annot=True, annot_kws={'size':20},\n",
    "            cmap=plt.cm.Greens, linewidths=0.2, fmt=\"d\")\n",
    "\n",
    "# Add labels to the plot\n",
    "class_names = ['Fake','True']\n",
    "tick_marks1 = np.arange(len(class_names))\n",
    "tick_marks2 = tick_marks1 + 0.5\n",
    "plt.xticks(tick_marks1, class_names, rotation=0)\n",
    "plt.yticks(tick_marks2, class_names, rotation=0)\n",
    "plt.xlabel('Predicted label')\n",
    "plt.ylabel('True label')\n",
    "plt.title('Confusion Matrix for Random Forest Model')\n",
    "plt.show()"
   ]
  }
 ],
 "metadata": {
  "kernelspec": {
   "display_name": "Python 3",
   "language": "python",
   "name": "python3"
  },
  "language_info": {
   "codemirror_mode": {
    "name": "ipython",
    "version": 3
   },
   "file_extension": ".py",
   "mimetype": "text/x-python",
   "name": "python",
   "nbconvert_exporter": "python",
   "pygments_lexer": "ipython3",
   "version": "3.7.10"
  },
  "papermill": {
   "default_parameters": {},
   "duration": 1322.314322,
   "end_time": "2021-08-01T20:43:07.607789",
   "environment_variables": {},
   "exception": null,
   "input_path": "__notebook__.ipynb",
   "output_path": "__notebook__.ipynb",
   "parameters": {},
   "start_time": "2021-08-01T20:21:05.293467",
   "version": "2.3.3"
  }
 },
 "nbformat": 4,
 "nbformat_minor": 5
}
